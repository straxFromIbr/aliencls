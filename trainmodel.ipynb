{
  "cells": [
    {
      "cell_type": "code",
      "execution_count": null,
      "metadata": {
        "id": "-no8fs2T075B"
      },
      "outputs": [],
      "source": [
        "from google.colab import drive\n",
        "drive.mount('/content/drive')\n",
        "!unzip /content/drive/MyDrive/Colab_Test/DWAliens.zip  2>&1 >/dev/null"
      ]
    },
    {
      "cell_type": "code",
      "execution_count": null,
      "metadata": {
        "id": "qhahff4D07Bt"
      },
      "outputs": [],
      "source": [
        "import pathlib\n",
        "import random\n",
        "from datetime import date\n",
        "\n",
        "import tensorflow as tf\n",
        "import tensorflow.keras as keras\n",
        "import matplotlib.pyplot as plt\n"
      ]
    },
    {
      "cell_type": "markdown",
      "metadata": {},
      "source": [
        "## ラベルの値とクラス名の対応：\n",
        "|ラベル|         名前|\n",
        "|-----:|------------:|\n",
        "|     0|     cyberman|\n",
        "|     1|        dalek|\n",
        "|     2|           k9|\n",
        "|     3|          ood|\n",
        "|     4|     slitheen|\n",
        "|     5|weeping_angel|\n",
        "|     6|        zygon|"
      ]
    },
    {
      "cell_type": "code",
      "execution_count": null,
      "metadata": {
        "id": "DQYZGiIs07Bv"
      },
      "outputs": [],
      "source": [
        "def load_and_preprocess_image_label(path, label):\n",
        "    # 画像の前処理\n",
        "    image = tf.io.read_file(path)\n",
        "    image = tf.image.decode_jpeg(image, channels=3)\n",
        "    image = tf.image.resize(image, [192, 192])\n",
        "    return image, label\n",
        "\n",
        "\n",
        "def mk_pathlist(data_root):\n",
        "    # ラベル\n",
        "    label_names = sorted(item.name for item in data_root.glob(\"*/\") if item.is_dir())\n",
        "    label_to_index = {name: index for index, name in enumerate(label_names)}\n",
        "\n",
        "    # 画像パス\n",
        "    all_paths = sorted([path for path in data_root.glob(\"*/*.jpg\")])\n",
        "    all_labels = [label_to_index[path.parent.name] for path in all_paths]\n",
        "    all_paths = [str(path) for path in all_paths]\n",
        "\n",
        "    images_and_labels = list(zip(all_paths, all_labels))\n",
        "    random.shuffle(images_and_labels)\n",
        "    all_paths_str, all_labels = zip(*images_and_labels)\n",
        "\n",
        "    for p, l in zip(all_paths_str, all_labels):\n",
        "        assert label_names[l] in p\n",
        "    return list(all_paths_str), list(all_labels)\n",
        "\n",
        "\n",
        "def mk_ds(paths, labels, test=False):\n",
        "    ds = tf.data.Dataset.from_tensor_slices((paths, labels))\n",
        "    ds = ds.map(load_and_preprocess_image_label, num_parallel_calls=tf.data.AUTOTUNE)\n",
        "    if test:\n",
        "        return ds.batch(128)\n",
        "    ds = ds.shuffle(300).repeat().batch(32).prefetch(tf.data.AUTOTUNE)\n",
        "    return ds\n",
        "\n",
        "\n",
        "data_root = pathlib.Path(\"../../../Datasets/DWAliens/train\")\n",
        "all_paths_str, all_labels = mk_pathlist(data_root)\n",
        "\n",
        "len_data = len(all_paths_str)\n",
        "\n",
        "tr_labels = all_labels[: int(len_data * 0.8)]\n",
        "tr_paths = all_paths_str[: int(len_data * 0.8)]\n",
        "train_ds = mk_ds(tr_paths, tr_labels)\n",
        "\n",
        "va_labels = list(all_labels[int(len_data * 0.8) :])\n",
        "va_paths = list(all_paths_str[int(len_data * 0.8) :])\n",
        "valid_ds = mk_ds(va_paths, va_labels)\n"
      ]
    },
    {
      "cell_type": "code",
      "execution_count": null,
      "metadata": {},
      "outputs": [],
      "source": [
        "label_names = sorted(item.name for item in data_root.glob(\"*/\") if item.is_dir())\n",
        "for i, l in train_ds.take(3):\n",
        "    plt.title(label_names[int(l[0])])\n",
        "    plt.imshow(i[0] / 255.0)\n",
        "    plt.grid(False)\n",
        "    plt.show()\n"
      ]
    },
    {
      "cell_type": "code",
      "execution_count": null,
      "metadata": {
        "id": "9qg-sODp07By"
      },
      "outputs": [],
      "source": [
        "mobile_net = keras.applications.MobileNetV2(\n",
        "    input_shape=(192, 192, 3), include_top=False\n",
        ")\n",
        "mobile_net.trainable = False\n"
      ]
    },
    {
      "cell_type": "code",
      "execution_count": null,
      "metadata": {
        "id": "L-tBLpXW07By"
      },
      "outputs": [],
      "source": [
        "model = keras.Sequential(\n",
        "    [\n",
        "        keras.layers.Resizing(192, 192),\n",
        "        keras.layers.Rescaling(scale=1.0 / 127.5, offset=-1),\n",
        "        keras.layers.RandomFlip(\"horizontal\"),\n",
        "        mobile_net,\n",
        "        keras.layers.GlobalAveragePooling2D(),\n",
        "        tf.keras.layers.Dense(len(label_names),activation='softmax'),\n",
        "    ]\n",
        ")\n"
      ]
    },
    {
      "cell_type": "code",
      "execution_count": null,
      "metadata": {
        "id": "9eANhvs_07Bz"
      },
      "outputs": [],
      "source": [
        "model.compile(\n",
        "    optimizer=keras.optimizers.Adam(),\n",
        "    loss=\"sparse_categorical_crossentropy\",\n",
        "    metrics=[\"accuracy\"],\n",
        ")"
      ]
    },
    {
      "cell_type": "code",
      "execution_count": null,
      "metadata": {
        "id": "XTnc12vy07Bz"
      },
      "outputs": [],
      "source": [
        "steps_per_epoch = tf.math.ceil(len(tr_paths) / 32).numpy()\n",
        "va_steps = tf.math.ceil(len(va_paths) / 32).numpy()\n",
        "\n",
        "model_history = model.fit(\n",
        "    train_ds,\n",
        "    epochs=10,\n",
        "    steps_per_epoch=steps_per_epoch,\n",
        "    validation_data=valid_ds,\n",
        "    validation_steps=va_steps,\n",
        ")\n"
      ]
    },
    {
      "cell_type": "code",
      "execution_count": null,
      "metadata": {
        "id": "L7KSlxMX3oZA"
      },
      "outputs": [],
      "source": [
        "print(model_history.history.keys())\n",
        "tr_loss = model_history.history[\"loss\"]\n",
        "va_loss = model_history.history[\"val_loss\"]\n",
        "tr_acc = model_history.history[\"accuracy\"]\n",
        "va_acc = model_history.history[\"val_accuracy\"]\n",
        "\n",
        "plt.figure()\n",
        "plt.title(\"Accuracy\")\n",
        "plt.plot(tr_acc, \"r\")\n",
        "plt.plot(va_acc, \"bo\")\n",
        "plt.show()\n",
        "\n",
        "plt.title(\"loss\")\n",
        "plt.plot(tr_loss, \"r\")\n",
        "plt.plot(va_loss, \"bo\")\n",
        "plt.show()\n"
      ]
    },
    {
      "cell_type": "code",
      "execution_count": null,
      "metadata": {
        "id": "PuGeS58P07B0"
      },
      "outputs": [],
      "source": [
        "fname = f'/content/drive/MyDrive/Colab_Test/{date.today()}.h5'\n",
        "model.save(fname)"
      ]
    },
    {
      "cell_type": "code",
      "execution_count": null,
      "metadata": {},
      "outputs": [],
      "source": [
        "# モデルの読み込み\n",
        "model = keras.models.load_model(\"../models/2021-12-07.h5\")\n",
        "data_root = pathlib.Path(\"../../../Datasets/DWAliens/test\")\n",
        "\n",
        "all_paths_str, all_labels = mk_pathlist(data_root)\n",
        "test_ds = mk_ds(all_paths_str, all_labels, test=True)\n",
        "loss, acc = model.evaluate(test_ds)\n",
        "print(\"test loss :\", loss)\n",
        "print(\"test  acc:\", acc)\n"
      ]
    }
  ],
  "metadata": {
    "accelerator": "GPU",
    "colab": {
      "name": "aliencls.ipynb",
      "provenance": []
    },
    "interpreter": {
      "hash": "1b689e9f410561e1dce15faac0c26475be0ac79ae6b82d53f987eb8f45dc05ea"
    },
    "kernelspec": {
      "display_name": "Python 3.8.12 64-bit ('tensorflow': conda)",
      "language": "python",
      "name": "python3"
    },
    "language_info": {
      "codemirror_mode": {
        "name": "ipython",
        "version": 3
      },
      "file_extension": ".py",
      "mimetype": "text/x-python",
      "name": "python",
      "nbconvert_exporter": "python",
      "pygments_lexer": "ipython3",
      "version": "3.8.12"
    },
    "orig_nbformat": 4
  },
  "nbformat": 4,
  "nbformat_minor": 0
}
